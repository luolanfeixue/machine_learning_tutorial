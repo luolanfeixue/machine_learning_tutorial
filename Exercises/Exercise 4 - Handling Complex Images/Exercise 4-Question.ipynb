{
 "cells": [
  {
   "cell_type": "markdown",
   "metadata": {
    "colab_type": "text",
    "id": "UncprnB0ymAE"
   },
   "source": [
    "Below is code with a link to a happy or sad dataset which contains 80 images, 40 happy and 40 sad. \n",
    "Create a convolutional neural network that trains to 100% accuracy on these images,  which cancels training upon hitting training accuracy of >.999\n",
    "\n",
    "Hint -- it will work best with 3 convolutional layers."
   ]
  },
  {
   "cell_type": "code",
   "execution_count": 3,
   "metadata": {
    "ExecuteTime": {
     "end_time": "2019-03-25T03:43:24.257382Z",
     "start_time": "2019-03-25T03:43:17.703382Z"
    },
    "code_folding": [],
    "colab": {},
    "colab_type": "code",
    "id": "7Vti6p3PxmpS"
   },
   "outputs": [
    {
     "name": "stderr",
     "output_type": "stream",
     "text": [
      "/Users/huanghailong/anaconda3/lib/python3.6/site-packages/h5py/__init__.py:36: FutureWarning: Conversion of the second argument of issubdtype from `float` to `np.floating` is deprecated. In future, it will be treated as `np.float64 == np.dtype(float).type`.\n",
      "  from ._conv import register_converters as _register_converters\n"
     ]
    },
    {
     "name": "stdout",
     "output_type": "stream",
     "text": [
      "--2019-03-25 11:43:21--  https://storage.googleapis.com/laurencemoroney-blog.appspot.com/happy-or-sad.zip\n",
      "正在解析主机 storage.googleapis.com (storage.googleapis.com)... 216.58.200.48\n",
      "正在连接 storage.googleapis.com (storage.googleapis.com)|216.58.200.48|:443... 已连接。\n",
      "已发出 HTTP 请求，正在等待回应... 200 OK\n",
      "长度：2670333 (2.5M) [application/zip]\n",
      "正在保存至: “/tmp/happy-or-sad.zip”\n",
      "\n",
      "/tmp/happy-or-sad.z 100%[===================>]   2.55M  1.18MB/s  用时 2.2s      \n",
      "\n",
      "2019-03-25 11:43:24 (1.18 MB/s) - 已保存 “/tmp/happy-or-sad.zip” [2670333/2670333])\n",
      "\n"
     ]
    }
   ],
   "source": [
    "import tensorflow as tf\n",
    "import os\n",
    "import zipfile\n",
    "\n",
    "\n",
    "DESIRED_ACCURACY = 0.999\n",
    "\n",
    "!wget --no-check-certificate \\\n",
    "    \"https://storage.googleapis.com/laurencemoroney-blog.appspot.com/happy-or-sad.zip\" \\\n",
    "    -O \"/tmp/happy-or-sad.zip\"\n",
    "\n",
    "zip_ref = zipfile.ZipFile(\"/tmp/happy-or-sad.zip\", 'r')\n",
    "zip_ref.extractall(\"/tmp/h-or-s\")\n",
    "zip_ref.close()\n",
    "\n",
    "class myCallback(tf.keras.callbacks.Callback):\n",
    "    def on_epoch_end(self, epoch, logs={}):\n",
    "        if (logs.get('acc') > 0.98):\n",
    "            print('\\nReached 99.8% accuracy so cancelling training!')\n",
    "            self.model.stop_training = True\n",
    "\n",
    "callbacks = myCallback()"
   ]
  },
  {
   "cell_type": "code",
   "execution_count": 18,
   "metadata": {
    "ExecuteTime": {
     "end_time": "2019-03-25T03:46:58.303192Z",
     "start_time": "2019-03-25T03:46:58.047032Z"
    },
    "colab": {},
    "colab_type": "code",
    "id": "6DLGbXXI1j_V"
   },
   "outputs": [],
   "source": [
    "# This Code Block should Define and Compile the Model\n",
    "model = tf.keras.models.Sequential([\n",
    "    tf.keras.layers.Conv2D(16, (3, 3), activation='relu', input_shape=(300,300,3)),\n",
    "    tf.keras.layers.MaxPooling2D(2, 2),\n",
    "    \n",
    "    tf.keras.layers.Conv2D(32,(3,3),activation='relu'),\n",
    "    tf.keras.layers.MaxPooling2D(2, 2),\n",
    "    tf.keras.layers.Conv2D(64,(3,3),activation='relu'),\n",
    "    tf.keras.layers.MaxPooling2D(2,2),\n",
    "    tf.keras.layers.Conv2D(64,(3,3),activation='relu'),\n",
    "    tf.keras.layers.MaxPooling2D(2,2),\n",
    "    tf.keras.layers.Conv2D(64,(3,3),activation='relu'),\n",
    "    tf.keras.layers.MaxPooling2D(2,2),\n",
    "    tf.keras.layers.Flatten(),\n",
    "    tf.keras.layers.Dense(512,activation='relu'),\n",
    "    tf.keras.layers.Dense(1,activation='sigmoid')\n",
    "])"
   ]
  },
  {
   "cell_type": "code",
   "execution_count": 19,
   "metadata": {
    "ExecuteTime": {
     "end_time": "2019-03-25T03:46:59.314725Z",
     "start_time": "2019-03-25T03:46:59.307859Z"
    }
   },
   "outputs": [
    {
     "name": "stdout",
     "output_type": "stream",
     "text": [
      "_________________________________________________________________\n",
      "Layer (type)                 Output Shape              Param #   \n",
      "=================================================================\n",
      "conv2d_31 (Conv2D)           (None, 298, 298, 16)      448       \n",
      "_________________________________________________________________\n",
      "max_pooling2d_31 (MaxPooling (None, 149, 149, 16)      0         \n",
      "_________________________________________________________________\n",
      "conv2d_32 (Conv2D)           (None, 147, 147, 32)      4640      \n",
      "_________________________________________________________________\n",
      "max_pooling2d_32 (MaxPooling (None, 73, 73, 32)        0         \n",
      "_________________________________________________________________\n",
      "conv2d_33 (Conv2D)           (None, 71, 71, 64)        18496     \n",
      "_________________________________________________________________\n",
      "max_pooling2d_33 (MaxPooling (None, 35, 35, 64)        0         \n",
      "_________________________________________________________________\n",
      "conv2d_34 (Conv2D)           (None, 33, 33, 64)        36928     \n",
      "_________________________________________________________________\n",
      "max_pooling2d_34 (MaxPooling (None, 16, 16, 64)        0         \n",
      "_________________________________________________________________\n",
      "conv2d_35 (Conv2D)           (None, 14, 14, 64)        36928     \n",
      "_________________________________________________________________\n",
      "max_pooling2d_35 (MaxPooling (None, 7, 7, 64)          0         \n",
      "_________________________________________________________________\n",
      "flatten_7 (Flatten)          (None, 3136)              0         \n",
      "_________________________________________________________________\n",
      "dense_14 (Dense)             (None, 512)               1606144   \n",
      "_________________________________________________________________\n",
      "dense_15 (Dense)             (None, 1)                 513       \n",
      "=================================================================\n",
      "Total params: 1,704,097\n",
      "Trainable params: 1,704,097\n",
      "Non-trainable params: 0\n",
      "_________________________________________________________________\n"
     ]
    }
   ],
   "source": [
    "model.summary()"
   ]
  },
  {
   "cell_type": "code",
   "execution_count": 20,
   "metadata": {
    "ExecuteTime": {
     "end_time": "2019-03-25T03:47:26.890639Z",
     "start_time": "2019-03-25T03:47:26.772845Z"
    }
   },
   "outputs": [],
   "source": [
    "\n",
    "from tensorflow.keras.optimizers import RMSprop\n",
    "\n",
    "model.compile(loss='binary_crossentropy',\n",
    "              optimizer=RMSprop(lr=0.001),\n",
    "              metrics=['acc'])"
   ]
  },
  {
   "cell_type": "code",
   "execution_count": 21,
   "metadata": {
    "ExecuteTime": {
     "end_time": "2019-03-25T04:29:08.663266Z",
     "start_time": "2019-03-25T04:29:08.534331Z"
    },
    "colab": {},
    "colab_type": "code",
    "id": "4Ap9fUJE1vVu"
   },
   "outputs": [
    {
     "name": "stdout",
     "output_type": "stream",
     "text": [
      "Found 80 images belonging to 2 classes.\n"
     ]
    }
   ],
   "source": [
    "# This code block should create an instance of an ImageDataGenerator called train_datagen \n",
    "# And a train_generator by calling train_datagen.flow_from_directory\n",
    "\n",
    "from tensorflow.keras.preprocessing.image import ImageDataGenerator\n",
    "\n",
    "train_datagen = ImageDataGenerator(rescale=1/255)\n",
    "\n",
    "train_generator = train_datagen.flow_from_directory(\n",
    "        '/tmp/h-or-s',\n",
    "        target_size=(300, 300),\n",
    "        batch_size = 128,\n",
    "        class_mode='binary'\n",
    "        )\n",
    "\n",
    "# Expected output: 'Found 80 images belonging to 2 classes'"
   ]
  },
  {
   "cell_type": "code",
   "execution_count": 22,
   "metadata": {
    "ExecuteTime": {
     "end_time": "2019-03-25T04:30:45.240700Z",
     "start_time": "2019-03-25T04:29:22.402891Z"
    },
    "colab": {},
    "colab_type": "code",
    "id": "48dLm13U1-Le"
   },
   "outputs": [
    {
     "name": "stdout",
     "output_type": "stream",
     "text": [
      "WARNING:tensorflow:From /Users/huanghailong/anaconda3/lib/python3.6/site-packages/tensorflow/python/ops/math_ops.py:3066: to_int32 (from tensorflow.python.ops.math_ops) is deprecated and will be removed in a future version.\n",
      "Instructions for updating:\n",
      "Use tf.cast instead.\n",
      "Epoch 1/15\n",
      "1/1 [==============================] - 8s 8s/step - loss: 0.6943 - acc: 0.5000\n",
      "Epoch 2/15\n",
      "1/1 [==============================] - 5s 5s/step - loss: 0.6224 - acc: 0.9250\n",
      "Epoch 3/15\n",
      "1/1 [==============================] - 5s 5s/step - loss: 7.2561 - acc: 0.5000\n",
      "Epoch 4/15\n",
      "1/1 [==============================] - 5s 5s/step - loss: 0.7674 - acc: 0.5000\n",
      "Epoch 5/15\n",
      "1/1 [==============================] - 5s 5s/step - loss: 0.6474 - acc: 0.9250\n",
      "Epoch 6/15\n",
      "1/1 [==============================] - 6s 6s/step - loss: 0.6252 - acc: 0.5000\n",
      "Epoch 7/15\n",
      "1/1 [==============================] - 5s 5s/step - loss: 0.7393 - acc: 0.5000\n",
      "Epoch 8/15\n",
      "1/1 [==============================] - 5s 5s/step - loss: 0.5818 - acc: 0.5000\n",
      "Epoch 9/15\n",
      "1/1 [==============================] - 5s 5s/step - loss: 0.4811 - acc: 0.9375\n",
      "Epoch 10/15\n",
      "1/1 [==============================] - 5s 5s/step - loss: 0.3776 - acc: 0.8625\n",
      "Epoch 11/15\n",
      "1/1 [==============================] - 5s 5s/step - loss: 0.5524 - acc: 0.7500\n",
      "Epoch 12/15\n",
      "1/1 [==============================] - 5s 5s/step - loss: 0.7504 - acc: 0.5000\n",
      "Epoch 13/15\n",
      "1/1 [==============================] - 5s 5s/step - loss: 0.4291 - acc: 0.9000\n",
      "Epoch 14/15\n",
      "1/1 [==============================] - 5s 5s/step - loss: 0.2828 - acc: 0.9375\n",
      "Epoch 15/15\n",
      "1/1 [==============================] - 5s 5s/step - loss: 0.2282 - acc: 0.9250\n"
     ]
    }
   ],
   "source": [
    "# This code block should call model.fit_generator and train for\n",
    "# a number of epochs. \n",
    "history = model.fit_generator(\n",
    "      train_generator,\n",
    "      steps_per_epoch=8,  \n",
    "      epochs=15,\n",
    "      verbose=1,\n",
    "      callbacks=[callbacks])\n",
    "    \n",
    "# Expected output: \"Reached 99.9% accuracy so cancelling training!\"\""
   ]
  },
  {
   "cell_type": "code",
   "execution_count": null,
   "metadata": {},
   "outputs": [],
   "source": []
  }
 ],
 "metadata": {
  "colab": {
   "name": "Exercise4-Question.ipynb",
   "provenance": [],
   "version": "0.3.2"
  },
  "kernelspec": {
   "display_name": "Python 3",
   "language": "python",
   "name": "python3"
  },
  "language_info": {
   "codemirror_mode": {
    "name": "ipython",
    "version": 3
   },
   "file_extension": ".py",
   "mimetype": "text/x-python",
   "name": "python",
   "nbconvert_exporter": "python",
   "pygments_lexer": "ipython3",
   "version": "3.6.5"
  }
 },
 "nbformat": 4,
 "nbformat_minor": 1
}
