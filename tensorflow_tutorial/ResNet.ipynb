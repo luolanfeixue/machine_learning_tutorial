{
 "cells": [
  {
   "cell_type": "code",
   "execution_count": 1,
   "metadata": {},
   "outputs": [
    {
     "name": "stderr",
     "output_type": "stream",
     "text": [
      "/home/hhl/anaconda3/lib/python3.6/site-packages/h5py/__init__.py:34: FutureWarning: Conversion of the second argument of issubdtype from `float` to `np.floating` is deprecated. In future, it will be treated as `np.float64 == np.dtype(float).type`.\n",
      "  from ._conv import register_converters as _register_converters\n"
     ]
    }
   ],
   "source": [
    "import collections\n",
    "import tensorflow as tf\n",
    "slim = tf.contrib.slim"
   ]
  },
  {
   "cell_type": "markdown",
   "metadata": {},
   "source": [
    "* namedtuple 语法说明 \n",
    "\n",
    "TPoint = namedtuple('TPoint', ['x', 'y']) 创建一个TPoint类型，而且带有属性x, y."
   ]
  },
  {
   "cell_type": "code",
   "execution_count": 2,
   "metadata": {
    "collapsed": true
   },
   "outputs": [],
   "source": [
    "class Block(collections.namedtuple('Block', ['scope', 'unit_fn', 'args'])):\n",
    "    pass"
   ]
  },
  {
   "cell_type": "code",
   "execution_count": 3,
   "metadata": {},
   "outputs": [
    {
     "name": "stdout",
     "output_type": "stream",
     "text": [
      "block1 [(256, 64, 1), (256, 64, 1), (256, 64, 2)]\n",
      "block2 [(512, 128, 1), (512, 128, 1), (512, 128, 1), (512, 128, 1), (512, 128, 1), (512, 128, 1), (512, 128, 1), (512, 128, 1), (512, 128, 1), (512, 128, 1), (512, 128, 1), (512, 128, 1), (512, 128, 1), (512, 128, 1), (512, 128, 1), (512, 128, 1), (512, 128, 1), (512, 128, 1), (512, 128, 1), (512, 128, 1), (512, 128, 1), (512, 128, 1), (512, 128, 1), (512, 128, 2)]\n",
      "block3 [(1024, 256, 1), (1024, 256, 1), (1024, 256, 1), (1024, 256, 1), (1024, 256, 1), (1024, 256, 1), (1024, 256, 1), (1024, 256, 1), (1024, 256, 1), (1024, 256, 1), (1024, 256, 1), (1024, 256, 1), (1024, 256, 1), (1024, 256, 1), (1024, 256, 1), (1024, 256, 1), (1024, 256, 1), (1024, 256, 1), (1024, 256, 1), (1024, 256, 1), (1024, 256, 1), (1024, 256, 1), (1024, 256, 1), (1024, 256, 1), (1024, 256, 1), (1024, 256, 1), (1024, 256, 1), (1024, 256, 1), (1024, 256, 1), (1024, 256, 1), (1024, 256, 1), (1024, 256, 1), (1024, 256, 1), (1024, 256, 1), (1024, 256, 1), (1024, 256, 2)]\n",
      "block4 [(2048, 512, 1), (2048, 512, 1), (2048, 512, 1)]\n"
     ]
    }
   ],
   "source": [
    "# Block 测试\n",
    "blocks = [\n",
    "      Block(\n",
    "          'block1', None, [(256, 64, 1)] * 2 + [(256, 64, 2)]),\n",
    "      Block(\n",
    "          'block2', None, [(512, 128, 1)] * 23 + [(512, 128, 2)]),\n",
    "      Block(\n",
    "          'block3', None, [(1024, 256, 1)] * 35 + [(1024, 256, 2)]),\n",
    "      Block(\n",
    "          'block4', None, [(2048, 512, 1)] * 3)]\n",
    "for block in blocks:\n",
    "    print(block.scope,block.args)"
   ]
  },
  {
   "cell_type": "markdown",
   "metadata": {},
   "source": [
    "* padding 有SAME和VALID两种方式，SAME不是让输入和输出图片尺寸相同的意思，而且对filter在走的时候，边界上不足filter长度时，做适当填充。\n",
    "\n",
    "  自己实现的samp padding功能"
   ]
  },
  {
   "cell_type": "code",
   "execution_count": 4,
   "metadata": {},
   "outputs": [],
   "source": [
    "def conv2d_same(inputs, num_outputs, kernel_size, stride, scope=None):\n",
    "    if stride == 1:\n",
    "        return slim.conv2d(inputs, num_outputs, kernel_size,stride=stride, padding='SAME', scope=scope)\n",
    "    else:\n",
    "        # exampl inputs:224x224x3,filter=7x7,pading后，230x230x3, conv2d(64个 filter 7x7, stride=2) 112x112x64\n",
    "        pad_total = kernel_size - 1\n",
    "        pad_beg = pad_total // 2\n",
    "        pad_end = pad_total - pad_beg\n",
    "        inputs = tf.pad(inputs, [[0,0], [pad_beg, pad_end], [pad_beg, pad_end], [0, 0]])\n",
    "        return slim.conv2d(inputs, num_outputs, kernel_size, stride=stride, padding='VALID', scope=scope)        "
   ]
  },
  {
   "cell_type": "code",
   "execution_count": 5,
   "metadata": {
    "collapsed": true
   },
   "outputs": [],
   "source": [
    "def subsample(inputs, factor, scope=None):\n",
    "    if factor == 1:\n",
    "        return inputs # strider = 1 不需要采样。\n",
    "    else:\n",
    "        return slim.max_pool2d(inputs, [1, 1], stride=factor, scope=scope)"
   ]
  },
  {
   "cell_type": "code",
   "execution_count": 6,
   "metadata": {},
   "outputs": [],
   "source": [
    "@slim.add_arg_scope\n",
    "def bottlenect(inputs, depth, depth_bottleneck, stride, outputs_collections=None, scope=None):\n",
    "#     depth 最后输出的 通道数，depth_bottleneck中间两层的通道数，stride中间那层的stride\n",
    "    print('输入：',inputs.shape)\n",
    "    with tf.variable_scope(scope, 'bottleneck_v2', [inputs]) as sc:\n",
    "        depth_in = slim.utils.last_dimension(inputs.get_shape(), min_rank=4)\n",
    "        preact = slim.batch_norm(inputs, activation_fn=tf.nn.relu, scope='preact')\n",
    "        if depth == depth_in:\n",
    "            # 如果输入通道数和输出通道数相等，则需要对inputs降采样,(确保空间尺寸和主路径(残差）的一致，因为主路径中间那层有stride)\n",
    "            # 所有降采样也要用stride\n",
    "            shortcut = subsample(inputs, stride, 'shortcut')\n",
    "        else:\n",
    "            shortcut = slim.conv2d(preact, depth, [1, 1], stride=stride, \n",
    "                                   normalizer_fn=None, activation_fn=None, scope='shortcut')\n",
    "        print('shortcut.shape',shortcut.shape) #56x56x256,\n",
    "        residual = slim.conv2d(preact, depth_bottleneck, [1, 1], stride=1, scope='conv1')\n",
    "        print('residual1.shape',residual.shape)\n",
    "        residual = conv2d_same(residual, num_outputs=depth_bottleneck, kernel_size=3,stride=stride, scope='conv2')\n",
    "        print('residual2.shape',residual.shape)\n",
    "        residual = slim.conv2d(residual, depth, [1, 1], stride=1, normalizer_fn=None, activation_fn=None, scope='conv3')\n",
    "        print('residual3.shape',residual.shape)\n",
    "        output = shortcut + residual\n",
    "        print('output.shape',output.shape)\n",
    "        return slim.utils.collect_named_outputs(outputs_collections, sc.name, output)"
   ]
  },
  {
   "cell_type": "code",
   "execution_count": 7,
   "metadata": {
    "collapsed": true
   },
   "outputs": [],
   "source": [
    "@slim.add_arg_scope\n",
    "def stack_blocks_dense(net, blocks, outputs_collections=None):\n",
    "    for block in blocks:\n",
    "        print(\"block.scope\",block.scope)\n",
    "        with tf.variable_scope(block.scope,'block', [net]) as sc:\n",
    "            for i, unit in enumerate(block.args):\n",
    "                print(\"block.arg\",unit)\n",
    "                with tf.variable_scope('unit_%d' %(i + 1), values=[net]):\n",
    "                    # 三层卷积，分别为：1x1，unit_depth_bottleneck;3x3,unit_depth_bottleneck,stride = unit_stride\n",
    "                    # 输出层 1x1,unit_depth\n",
    "                    unit_depth, unit_depth_bottleneck, unit_stride = unit\n",
    "                    net = block.unit_fn(net, unit_depth, unit_depth_bottleneck, unit_stride)\n",
    "                    print('输出：',net.shape)\n",
    "    return net"
   ]
  },
  {
   "cell_type": "code",
   "execution_count": 8,
   "metadata": {},
   "outputs": [],
   "source": [
    "def resnet_v2(inputs, blocks, num_classes=None, global_pool=True, include_root_block=True, reuse=None, scope=None):\n",
    "    with tf.variable_scope(scope,'resnet_v2', [inputs], reuse=reuse) as sc:\n",
    "        end_point_collection = sc.original_name_scope + '_end_point'\n",
    "        with slim.arg_scope([slim.conv2d, bottlenect, stack_blocks_dense], outputs_collections=end_point_collection):\n",
    "            net = inputs\n",
    "            if include_root_block:# 最开始的处理\n",
    "                with slim.arg_scope([slim.conv2d], activation_fn=None, normalizer_fn=None):\n",
    "                    net = conv2d_same(net, 64, 7, stride=2, scope='conv1') \n",
    "#                     print('net.shape',net.shape) # 112x112x64\n",
    "                net = slim.max_pool2d(net, [3, 3], stride=2, padding='SAME',scope='pool1') \n",
    "#                 print('net2.shape',net.shape)# 56x56x64\n",
    "            # 层层堆叠的blocks\n",
    "            net = stack_blocks_dense(net, blocks)\n",
    "            net = slim.batch_norm(net, activation_fn=tf.nn.relu, scope='postnorm')\n",
    "            if global_pool:\n",
    "                net = tf.reduce_mean(net, [1, 2], name='pool5',keepdims=True)\n",
    "            if num_classes is not None:\n",
    "                net = slim.conv2d(net, num_classes, [1, 1], activation_fn=None, normalizer_fn=None, scope='logits')\n",
    "            end_points = slim.utils.convert_collection_to_dict(end_point_collection)\n",
    "            if num_classes is not None:\n",
    "                end_points['predictions'] = slim.softmax(net, scope='predictons')\n",
    "            return net, end_points\n",
    "        "
   ]
  },
  {
   "cell_type": "code",
   "execution_count": 9,
   "metadata": {},
   "outputs": [],
   "source": [
    "def resnet_v2_50(inputs, num_classes=None, global_pool=True, reuse = None, scope='resnet_v2_50'):\n",
    "    blocks = [\n",
    "        Block('block1', bottlenect, [(256, 64, 1)] * 2 + [(256, 64, 2)]),\n",
    "        Block('block2', bottlenect, [(512, 128, 1)] * 3 + [(512, 128, 2)]),\n",
    "        Block('block3', bottlenect, [(1024, 256, 1)] * 5 + [(1024, 256, 2)]),\n",
    "        Block('block4', bottlenect, [(2048, 512, 1)] * 3)\n",
    "    ]\n",
    "    return resnet_v2(inputs, blocks, num_classes, global_pool, include_root_block=True, reuse=reuse, scope=scope)"
   ]
  },
  {
   "cell_type": "code",
   "execution_count": 10,
   "metadata": {
    "collapsed": true
   },
   "outputs": [],
   "source": [
    "def time_tensorflow_run(session, target, info_string):\n",
    "    num_steps_burn_in = 10\n",
    "    total_duration = 0.0\n",
    "    total_duration_squared = 0.0\n",
    "    for i in range(num_batches + num_steps_burn_in):\n",
    "        start_time = time.time()\n",
    "        _ = session.run(target)\n",
    "        duration = time.time() - start_time\n",
    "        if i >= num_steps_burn_in:\n",
    "            if not i % 10:\n",
    "                print ('%s: step %d, duration = %.3f' %\n",
    "                       (datetime.now(), i - num_steps_burn_in, duration))\n",
    "            total_duration += duration\n",
    "            total_duration_squared += duration * duration\n",
    "    mn = total_duration / num_batches\n",
    "    vr = total_duration_squared / num_batches - mn * mn\n",
    "    sd = math.sqrt(vr)\n",
    "    print ('%s: %s across %d steps, %.3f +/- %.3f sec / batch' %\n",
    "           (datetime.now(), info_string, num_batches, mn, sd))"
   ]
  },
  {
   "cell_type": "code",
   "execution_count": 11,
   "metadata": {
    "collapsed": true
   },
   "outputs": [],
   "source": [
    "def resnet_arg_scope(is_training=True, # 训练标记\n",
    "                     weight_decay=0.0001, # 权重衰减速率\n",
    "                     batch_norm_decay=0.997, # BN的衰减速率\n",
    "                     batch_norm_epsilon=1e-5, #  BN的epsilon默认1e-5\n",
    "                     batch_norm_scale=True): # BN的scale默认值\n",
    "\n",
    "  batch_norm_params = { # 定义batch normalization（标准化）的参数字典\n",
    "      'is_training': is_training,\n",
    "      'decay': batch_norm_decay,\n",
    "      'epsilon': batch_norm_epsilon,\n",
    "      'scale': batch_norm_scale,\n",
    "      'updates_collections': tf.GraphKeys.UPDATE_OPS,\n",
    "  }\n",
    "\n",
    "  with slim.arg_scope( # 通过slim.arg_scope将[slim.conv2d]的几个默认参数设置好\n",
    "      [slim.conv2d],\n",
    "      weights_regularizer=slim.l2_regularizer(weight_decay), # 权重正则器设置为L2正则 \n",
    "      weights_initializer=slim.variance_scaling_initializer(), # 权重初始化器\n",
    "      activation_fn=tf.nn.relu, # 激活函数\n",
    "      normalizer_fn=slim.batch_norm, # 标准化器设置为BN\n",
    "      normalizer_params=batch_norm_params):\n",
    "    with slim.arg_scope([slim.batch_norm], **batch_norm_params):\n",
    "      with slim.arg_scope([slim.max_pool2d], padding='SAME') as arg_sc: # ResNet原论文是VALID模式，SAME模式可让特征对齐更简单\n",
    "        return arg_sc # 最后将基层嵌套的arg_scope作为结果返回"
   ]
  },
  {
   "cell_type": "code",
   "execution_count": 12,
   "metadata": {
    "collapsed": true
   },
   "outputs": [],
   "source": [
    "from datetime import datetime\n",
    "import math\n",
    "import time"
   ]
  },
  {
   "cell_type": "code",
   "execution_count": 13,
   "metadata": {},
   "outputs": [
    {
     "name": "stdout",
     "output_type": "stream",
     "text": [
      "block.scope block1\n",
      "block.arg (256, 64, 1)\n",
      "输入： (32, 56, 56, 64)\n",
      "shortcut.shape (32, 56, 56, 256)\n",
      "residual1.shape (32, 56, 56, 64)\n",
      "residual2.shape (32, 56, 56, 64)\n",
      "residual3.shape (32, 56, 56, 256)\n",
      "output.shape (32, 56, 56, 256)\n",
      "输出： (32, 56, 56, 256)\n",
      "block.arg (256, 64, 1)\n",
      "输入： (32, 56, 56, 256)\n",
      "shortcut.shape (32, 56, 56, 256)\n",
      "residual1.shape (32, 56, 56, 64)\n",
      "residual2.shape (32, 56, 56, 64)\n",
      "residual3.shape (32, 56, 56, 256)\n",
      "output.shape (32, 56, 56, 256)\n",
      "输出： (32, 56, 56, 256)\n",
      "block.arg (256, 64, 2)\n",
      "输入： (32, 56, 56, 256)\n",
      "shortcut.shape (32, 28, 28, 256)\n",
      "residual1.shape (32, 56, 56, 64)\n",
      "residual2.shape (32, 28, 28, 64)\n",
      "residual3.shape (32, 28, 28, 256)\n",
      "output.shape (32, 28, 28, 256)\n",
      "输出： (32, 28, 28, 256)\n",
      "block.scope block2\n",
      "block.arg (512, 128, 1)\n",
      "输入： (32, 28, 28, 256)\n",
      "shortcut.shape (32, 28, 28, 512)\n",
      "residual1.shape (32, 28, 28, 128)\n",
      "residual2.shape (32, 28, 28, 128)\n",
      "residual3.shape (32, 28, 28, 512)\n",
      "output.shape (32, 28, 28, 512)\n",
      "输出： (32, 28, 28, 512)\n",
      "block.arg (512, 128, 1)\n",
      "输入： (32, 28, 28, 512)\n",
      "shortcut.shape (32, 28, 28, 512)\n",
      "residual1.shape (32, 28, 28, 128)\n",
      "residual2.shape (32, 28, 28, 128)\n",
      "residual3.shape (32, 28, 28, 512)\n",
      "output.shape (32, 28, 28, 512)\n",
      "输出： (32, 28, 28, 512)\n",
      "block.arg (512, 128, 1)\n",
      "输入： (32, 28, 28, 512)\n",
      "shortcut.shape (32, 28, 28, 512)\n",
      "residual1.shape (32, 28, 28, 128)\n",
      "residual2.shape (32, 28, 28, 128)\n",
      "residual3.shape (32, 28, 28, 512)\n",
      "output.shape (32, 28, 28, 512)\n",
      "输出： (32, 28, 28, 512)\n",
      "block.arg (512, 128, 2)\n",
      "输入： (32, 28, 28, 512)\n",
      "shortcut.shape (32, 14, 14, 512)\n",
      "residual1.shape (32, 28, 28, 128)\n",
      "residual2.shape (32, 14, 14, 128)\n",
      "residual3.shape (32, 14, 14, 512)\n",
      "output.shape (32, 14, 14, 512)\n",
      "输出： (32, 14, 14, 512)\n",
      "block.scope block3\n",
      "block.arg (1024, 256, 1)\n",
      "输入： (32, 14, 14, 512)\n",
      "shortcut.shape (32, 14, 14, 1024)\n",
      "residual1.shape (32, 14, 14, 256)\n",
      "residual2.shape (32, 14, 14, 256)\n",
      "residual3.shape (32, 14, 14, 1024)\n",
      "output.shape (32, 14, 14, 1024)\n",
      "输出： (32, 14, 14, 1024)\n",
      "block.arg (1024, 256, 1)\n",
      "输入： (32, 14, 14, 1024)\n",
      "shortcut.shape (32, 14, 14, 1024)\n",
      "residual1.shape (32, 14, 14, 256)\n",
      "residual2.shape (32, 14, 14, 256)\n",
      "residual3.shape (32, 14, 14, 1024)\n",
      "output.shape (32, 14, 14, 1024)\n",
      "输出： (32, 14, 14, 1024)\n",
      "block.arg (1024, 256, 1)\n",
      "输入： (32, 14, 14, 1024)\n",
      "shortcut.shape (32, 14, 14, 1024)\n",
      "residual1.shape (32, 14, 14, 256)\n",
      "residual2.shape (32, 14, 14, 256)\n",
      "residual3.shape (32, 14, 14, 1024)\n",
      "output.shape (32, 14, 14, 1024)\n",
      "输出： (32, 14, 14, 1024)\n",
      "block.arg (1024, 256, 1)\n",
      "输入： (32, 14, 14, 1024)\n",
      "shortcut.shape (32, 14, 14, 1024)\n",
      "residual1.shape (32, 14, 14, 256)\n",
      "residual2.shape (32, 14, 14, 256)\n",
      "residual3.shape (32, 14, 14, 1024)\n",
      "output.shape (32, 14, 14, 1024)\n",
      "输出： (32, 14, 14, 1024)\n",
      "block.arg (1024, 256, 1)\n",
      "输入： (32, 14, 14, 1024)\n",
      "shortcut.shape (32, 14, 14, 1024)\n",
      "residual1.shape (32, 14, 14, 256)\n",
      "residual2.shape (32, 14, 14, 256)\n",
      "residual3.shape (32, 14, 14, 1024)\n",
      "output.shape (32, 14, 14, 1024)\n",
      "输出： (32, 14, 14, 1024)\n",
      "block.arg (1024, 256, 2)\n",
      "输入： (32, 14, 14, 1024)\n",
      "shortcut.shape (32, 7, 7, 1024)\n",
      "residual1.shape (32, 14, 14, 256)\n",
      "residual2.shape (32, 7, 7, 256)\n",
      "residual3.shape (32, 7, 7, 1024)\n",
      "output.shape (32, 7, 7, 1024)\n",
      "输出： (32, 7, 7, 1024)\n",
      "block.scope block4\n",
      "block.arg (2048, 512, 1)\n",
      "输入： (32, 7, 7, 1024)\n",
      "shortcut.shape (32, 7, 7, 2048)\n",
      "residual1.shape (32, 7, 7, 512)\n",
      "residual2.shape (32, 7, 7, 512)\n",
      "residual3.shape (32, 7, 7, 2048)\n",
      "output.shape (32, 7, 7, 2048)\n",
      "输出： (32, 7, 7, 2048)\n",
      "block.arg (2048, 512, 1)\n",
      "输入： (32, 7, 7, 2048)\n",
      "shortcut.shape (32, 7, 7, 2048)\n",
      "residual1.shape (32, 7, 7, 512)\n",
      "residual2.shape (32, 7, 7, 512)\n",
      "residual3.shape (32, 7, 7, 2048)\n",
      "output.shape (32, 7, 7, 2048)\n",
      "输出： (32, 7, 7, 2048)\n",
      "block.arg (2048, 512, 1)\n",
      "输入： (32, 7, 7, 2048)\n",
      "shortcut.shape (32, 7, 7, 2048)\n",
      "residual1.shape (32, 7, 7, 512)\n",
      "residual2.shape (32, 7, 7, 512)\n",
      "residual3.shape (32, 7, 7, 2048)\n",
      "output.shape (32, 7, 7, 2048)\n",
      "输出： (32, 7, 7, 2048)\n",
      "2018-11-12 17:16:29.668072: step 0, duration = 0.047\n",
      "2018-11-12 17:16:30.135409: step 10, duration = 0.046\n",
      "2018-11-12 17:16:30.602309: step 20, duration = 0.047\n",
      "2018-11-12 17:16:31.067437: step 30, duration = 0.047\n",
      "2018-11-12 17:16:31.534269: step 40, duration = 0.047\n",
      "2018-11-12 17:16:32.001748: step 50, duration = 0.047\n",
      "2018-11-12 17:16:32.468043: step 60, duration = 0.047\n",
      "2018-11-12 17:16:32.935418: step 70, duration = 0.047\n",
      "2018-11-12 17:16:33.402741: step 80, duration = 0.047\n",
      "2018-11-12 17:16:33.870417: step 90, duration = 0.047\n",
      "2018-11-12 17:16:34.291178: Forward across 100 steps, 0.047 +/- 0.000 sec / batch\n"
     ]
    }
   ],
   "source": [
    "batch_size = 32\n",
    "height, width = 224, 224\n",
    "inputs = tf.random_uniform((batch_size, height, width, 3))\n",
    "with slim.arg_scope(resnet_arg_scope(is_training=False)): # is_training设置为false\n",
    "   net, end_points = resnet_v2_50(inputs, 1000)\n",
    "  \n",
    "init = tf.global_variables_initializer()\n",
    "sess = tf.Session()\n",
    "sess.run(init)  \n",
    "num_batches=100\n",
    "time_tensorflow_run(sess, net, \"Forward\") "
   ]
  }
 ],
 "metadata": {
  "kernelspec": {
   "display_name": "Python 3",
   "language": "python",
   "name": "python3"
  },
  "language_info": {
   "codemirror_mode": {
    "name": "ipython",
    "version": 3
   },
   "file_extension": ".py",
   "mimetype": "text/x-python",
   "name": "python",
   "nbconvert_exporter": "python",
   "pygments_lexer": "ipython3",
   "version": "3.6.3"
  }
 },
 "nbformat": 4,
 "nbformat_minor": 2
}
