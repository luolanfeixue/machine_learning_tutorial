{
 "cells": [
  {
   "cell_type": "code",
   "execution_count": 1,
   "metadata": {},
   "outputs": [
    {
     "name": "stderr",
     "output_type": "stream",
     "text": [
      "/home/hhl/anaconda3/lib/python3.6/site-packages/h5py/__init__.py:34: FutureWarning: Conversion of the second argument of issubdtype from `float` to `np.floating` is deprecated. In future, it will be treated as `np.float64 == np.dtype(float).type`.\n",
      "  from ._conv import register_converters as _register_converters\n"
     ]
    }
   ],
   "source": [
    "import tensorflow as tf\n",
    "from tensorflow.examples.tutorials.mnist import input_data\n",
    "import os\n",
    "max_steps = 1000\n",
    "learning_rate = 0.001\n",
    "dropout = 0.9\n",
    "data_dir = '/home/hhl/code/machine_learning_tutorial/tensorflow_tutorial/MNIST_data'\n",
    "log_dir = '/home/hhl/code/machine_learning_tutorial/tensorflow_tutorial/MNIST_data/logs'"
   ]
  },
  {
   "cell_type": "code",
   "execution_count": 2,
   "metadata": {},
   "outputs": [],
   "source": [
    "os.environ[\"CUDA_VISIBLE_DEVICES\"]=\"1\""
   ]
  },
  {
   "cell_type": "code",
   "execution_count": 3,
   "metadata": {},
   "outputs": [
    {
     "name": "stdout",
     "output_type": "stream",
     "text": [
      "WARNING:tensorflow:From <ipython-input-3-a75b43ffb645>:1: read_data_sets (from tensorflow.contrib.learn.python.learn.datasets.mnist) is deprecated and will be removed in a future version.\n",
      "Instructions for updating:\n",
      "Please use alternatives such as official/mnist/dataset.py from tensorflow/models.\n",
      "WARNING:tensorflow:From /home/hhl/anaconda3/lib/python3.6/site-packages/tensorflow/contrib/learn/python/learn/datasets/mnist.py:260: maybe_download (from tensorflow.contrib.learn.python.learn.datasets.base) is deprecated and will be removed in a future version.\n",
      "Instructions for updating:\n",
      "Please write your own downloading logic.\n",
      "WARNING:tensorflow:From /home/hhl/anaconda3/lib/python3.6/site-packages/tensorflow/contrib/learn/python/learn/datasets/mnist.py:262: extract_images (from tensorflow.contrib.learn.python.learn.datasets.mnist) is deprecated and will be removed in a future version.\n",
      "Instructions for updating:\n",
      "Please use tf.data to implement this functionality.\n",
      "Extracting /home/hhl/code/machine_learning_tutorial/tensorflow_tutorial/MNIST_data/train-images-idx3-ubyte.gz\n",
      "WARNING:tensorflow:From /home/hhl/anaconda3/lib/python3.6/site-packages/tensorflow/contrib/learn/python/learn/datasets/mnist.py:267: extract_labels (from tensorflow.contrib.learn.python.learn.datasets.mnist) is deprecated and will be removed in a future version.\n",
      "Instructions for updating:\n",
      "Please use tf.data to implement this functionality.\n",
      "Extracting /home/hhl/code/machine_learning_tutorial/tensorflow_tutorial/MNIST_data/train-labels-idx1-ubyte.gz\n",
      "WARNING:tensorflow:From /home/hhl/anaconda3/lib/python3.6/site-packages/tensorflow/contrib/learn/python/learn/datasets/mnist.py:110: dense_to_one_hot (from tensorflow.contrib.learn.python.learn.datasets.mnist) is deprecated and will be removed in a future version.\n",
      "Instructions for updating:\n",
      "Please use tf.one_hot on tensors.\n",
      "Extracting /home/hhl/code/machine_learning_tutorial/tensorflow_tutorial/MNIST_data/t10k-images-idx3-ubyte.gz\n",
      "Extracting /home/hhl/code/machine_learning_tutorial/tensorflow_tutorial/MNIST_data/t10k-labels-idx1-ubyte.gz\n",
      "WARNING:tensorflow:From /home/hhl/anaconda3/lib/python3.6/site-packages/tensorflow/contrib/learn/python/learn/datasets/mnist.py:290: DataSet.__init__ (from tensorflow.contrib.learn.python.learn.datasets.mnist) is deprecated and will be removed in a future version.\n",
      "Instructions for updating:\n",
      "Please use alternatives such as official/mnist/dataset.py from tensorflow/models.\n"
     ]
    }
   ],
   "source": [
    "mnist = input_data.read_data_sets(data_dir, one_hot=True)\n",
    "sess = tf.InteractiveSession()"
   ]
  },
  {
   "cell_type": "code",
   "execution_count": 4,
   "metadata": {
    "collapsed": true
   },
   "outputs": [],
   "source": [
    "with tf.name_scope('input'):\n",
    "    x = tf.placeholder(tf.float32, [None, 784], name='x-input')\n",
    "    y_true = tf.placeholder(tf.float32, [None, 10], name='y-input')"
   ]
  },
  {
   "cell_type": "code",
   "execution_count": 5,
   "metadata": {
    "collapsed": true
   },
   "outputs": [],
   "source": [
    "with tf.name_scope('input_shape'):\n",
    "    image_shaped_input = tf.reshape(x,[-1, 28, 28, 1])\n",
    "    tf.summary.image('input', image_shaped_input)"
   ]
  },
  {
   "cell_type": "code",
   "execution_count": 6,
   "metadata": {
    "collapsed": true
   },
   "outputs": [],
   "source": [
    "def weight_variable(shape):\n",
    "    initial = tf.truncated_normal(shape, stddev=0.1)\n",
    "    return tf.Variable(initial)"
   ]
  },
  {
   "cell_type": "code",
   "execution_count": 7,
   "metadata": {
    "collapsed": true
   },
   "outputs": [],
   "source": [
    "def bias_variable(shape):\n",
    "    initial = tf.constant(0.1, shape=shape)\n",
    "    return tf.Variable(initial)"
   ]
  },
  {
   "cell_type": "code",
   "execution_count": 8,
   "metadata": {
    "collapsed": true
   },
   "outputs": [],
   "source": [
    "def variable_summaries(var):\n",
    "    with tf.name_scope('summaries'):\n",
    "        mean = tf.reduce_mean(var)\n",
    "        tf.summary.scalar('mean', mean)\n",
    "        with tf.name_scope('stddev'):\n",
    "            stddev = tf.sqrt(tf.reduce_mean(tf.square(var - mean)))\n",
    "        tf.summary.scalar('stddev', stddev)\n",
    "        tf.summary.scalar('max', tf.reduce_max(var))\n",
    "        tf.summary.scalar('min', tf.reduce_min(var))\n",
    "        tf.summary.histogram('histogram', var)"
   ]
  },
  {
   "cell_type": "code",
   "execution_count": 9,
   "metadata": {},
   "outputs": [],
   "source": [
    "def nn_layer(input_tensor, input_dim, output_dim, layer_name, act = tf.nn.relu):\n",
    "    with tf.name_scope(layer_name):\n",
    "        with tf.name_scope('weights'):\n",
    "            weights = weight_variable([input_dim, output_dim])\n",
    "            variable_summaries(weights)\n",
    "        with tf.name_scope('biases'):\n",
    "            biases = bias_variable([output_dim])\n",
    "            variable_summaries(biases)\n",
    "        with tf.name_scope('WX_plus_b'):\n",
    "            preactivate = tf.matmul(input_tensor, weights) + biases\n",
    "            tf.summary.histogram('pre_activations', preactivate)\n",
    "        activations = act(preactivate, name='activation')\n",
    "        tf.summary.histogram('activations', activations)\n",
    "        return activations"
   ]
  },
  {
   "cell_type": "code",
   "execution_count": 10,
   "metadata": {
    "collapsed": true
   },
   "outputs": [],
   "source": [
    "hidden1 = nn_layer(x, 784, 500, 'layer1')\n",
    "\n",
    "with tf.name_scope('dropout'):\n",
    "    keep_prob = tf.placeholder(tf.float32)\n",
    "    tf.summary.scalar('dropout_keep_probability',keep_prob)\n",
    "    droped = tf.nn.dropout(hidden1, keep_prob)\n",
    "y_hat = nn_layer(droped, 500, 10, 'layer2', act=tf.identity)"
   ]
  },
  {
   "cell_type": "code",
   "execution_count": 11,
   "metadata": {},
   "outputs": [
    {
     "name": "stdout",
     "output_type": "stream",
     "text": [
      "WARNING:tensorflow:From <ipython-input-11-456e7d1c0137>:2: softmax_cross_entropy_with_logits (from tensorflow.python.ops.nn_ops) is deprecated and will be removed in a future version.\n",
      "Instructions for updating:\n",
      "\n",
      "Future major versions of TensorFlow will allow gradients to flow\n",
      "into the labels input on backprop by default.\n",
      "\n",
      "See @{tf.nn.softmax_cross_entropy_with_logits_v2}.\n",
      "\n"
     ]
    },
    {
     "data": {
      "text/plain": [
       "<tf.Tensor 'cross_entropy_1:0' shape=() dtype=string>"
      ]
     },
     "execution_count": 11,
     "metadata": {},
     "output_type": "execute_result"
    }
   ],
   "source": [
    "with tf.name_scope('cross_entropy'):\n",
    "    diff = tf.nn.softmax_cross_entropy_with_logits(logits=y_hat, labels=y_true)\n",
    "    with tf.name_scope('total'):\n",
    "        cross_entropy = tf.reduce_mean(diff)\n",
    "tf.summary.scalar('cross_entropy', cross_entropy)"
   ]
  },
  {
   "cell_type": "code",
   "execution_count": 12,
   "metadata": {},
   "outputs": [
    {
     "data": {
      "text/plain": [
       "<tf.Tensor 'accuracy_1:0' shape=() dtype=string>"
      ]
     },
     "execution_count": 12,
     "metadata": {},
     "output_type": "execute_result"
    }
   ],
   "source": [
    "with tf.name_scope('train'):\n",
    "    train_step = tf.train.AdamOptimizer(learning_rate).minimize(cross_entropy)\n",
    "with tf.name_scope('accuracy'):\n",
    "    with tf.name_scope('correct_prediciton'):\n",
    "        correct_prediction = tf.equal(tf.argmax(y_hat, 1), tf.argmax(y_true, 1))\n",
    "    with tf.name_scope('accuracy'):\n",
    "        accuracy = tf.reduce_mean(tf.cast(correct_prediction, tf.float32))\n",
    "tf.summary.scalar('accuracy',accuracy)"
   ]
  },
  {
   "cell_type": "code",
   "execution_count": 13,
   "metadata": {
    "collapsed": true
   },
   "outputs": [],
   "source": [
    "merged = tf.summary.merge_all()\n",
    "train_writer = tf.summary.FileWriter(log_dir + '/train', sess.graph)\n",
    "test_writer = tf.summary.FileWriter(log_dir + '/test')\n",
    "tf.global_variables_initializer().run()"
   ]
  },
  {
   "cell_type": "code",
   "execution_count": 14,
   "metadata": {},
   "outputs": [],
   "source": [
    "def feed_dict(train):\n",
    "    if train:\n",
    "        xs, ys = mnist.train.next_batch(100)\n",
    "        k = dropout\n",
    "    else:\n",
    "        xs, ys = mnist.test.images, mnist.test.labels\n",
    "        k = 1.0\n",
    "    return {x : xs, y_true : ys, keep_prob: k }"
   ]
  },
  {
   "cell_type": "code",
   "execution_count": 15,
   "metadata": {},
   "outputs": [
    {
     "name": "stdout",
     "output_type": "stream",
     "text": [
      "Accuracy, at step 0: 0.1147\n",
      "Accuracy, at step 10: 0.7338\n",
      "Accuracy, at step 20: 0.8359\n",
      "Accuracy, at step 30: 0.848\n",
      "Accuracy, at step 40: 0.878\n",
      "Accuracy, at step 50: 0.8956\n",
      "Accuracy, at step 60: 0.8979\n",
      "Accuracy, at step 70: 0.905\n",
      "Accuracy, at step 80: 0.9095\n",
      "Accuracy, at step 90: 0.9107\n",
      "Accuracy, at step 100: 0.9164\n",
      "Accuracy, at step 110: 0.9126\n",
      "Accuracy, at step 120: 0.9208\n",
      "Accuracy, at step 130: 0.9206\n",
      "Accuracy, at step 140: 0.9243\n",
      "Accuracy, at step 150: 0.9266\n",
      "Accuracy, at step 160: 0.9297\n",
      "Accuracy, at step 170: 0.933\n",
      "Accuracy, at step 180: 0.9303\n",
      "Accuracy, at step 190: 0.9309\n",
      "Accuracy, at step 200: 0.9363\n",
      "Accuracy, at step 210: 0.9365\n",
      "Accuracy, at step 220: 0.9381\n",
      "Accuracy, at step 230: 0.9392\n",
      "Accuracy, at step 240: 0.9428\n",
      "Accuracy, at step 250: 0.9397\n",
      "Accuracy, at step 260: 0.9316\n",
      "Accuracy, at step 270: 0.9424\n",
      "Accuracy, at step 280: 0.944\n",
      "Accuracy, at step 290: 0.9458\n",
      "Accuracy, at step 300: 0.9444\n",
      "Accuracy, at step 310: 0.9454\n",
      "Accuracy, at step 320: 0.9458\n",
      "Accuracy, at step 330: 0.946\n",
      "Accuracy, at step 340: 0.9445\n",
      "Accuracy, at step 350: 0.9462\n",
      "Accuracy, at step 360: 0.948\n",
      "Accuracy, at step 370: 0.9465\n",
      "Accuracy, at step 380: 0.9526\n",
      "Accuracy, at step 390: 0.9516\n",
      "Accuracy, at step 400: 0.9524\n",
      "Accuracy, at step 410: 0.9554\n",
      "Accuracy, at step 420: 0.951\n",
      "Accuracy, at step 430: 0.9531\n",
      "Accuracy, at step 440: 0.9536\n",
      "Accuracy, at step 450: 0.9551\n",
      "Accuracy, at step 460: 0.9545\n",
      "Accuracy, at step 470: 0.9551\n",
      "Accuracy, at step 480: 0.9511\n",
      "Accuracy, at step 490: 0.9542\n",
      "Accuracy, at step 500: 0.9559\n",
      "Accuracy, at step 510: 0.9575\n",
      "Accuracy, at step 520: 0.959\n",
      "Accuracy, at step 530: 0.9595\n",
      "Accuracy, at step 540: 0.9567\n",
      "Accuracy, at step 550: 0.9604\n",
      "Accuracy, at step 560: 0.9594\n",
      "Accuracy, at step 570: 0.9596\n",
      "Accuracy, at step 580: 0.9596\n",
      "Accuracy, at step 590: 0.9594\n",
      "Accuracy, at step 600: 0.9605\n",
      "Accuracy, at step 610: 0.9598\n",
      "Accuracy, at step 620: 0.9621\n",
      "Accuracy, at step 630: 0.9597\n",
      "Accuracy, at step 640: 0.9602\n",
      "Accuracy, at step 650: 0.9587\n",
      "Accuracy, at step 660: 0.957\n",
      "Accuracy, at step 670: 0.9587\n",
      "Accuracy, at step 680: 0.9599\n",
      "Accuracy, at step 690: 0.9582\n",
      "Accuracy, at step 700: 0.9611\n",
      "Accuracy, at step 710: 0.9628\n",
      "Accuracy, at step 720: 0.9628\n",
      "Accuracy, at step 730: 0.9636\n",
      "Accuracy, at step 740: 0.9632\n",
      "Accuracy, at step 750: 0.9597\n",
      "Accuracy, at step 760: 0.9637\n",
      "Accuracy, at step 770: 0.9631\n",
      "Accuracy, at step 780: 0.9656\n",
      "Accuracy, at step 790: 0.965\n",
      "Accuracy, at step 800: 0.9658\n",
      "Accuracy, at step 810: 0.9655\n",
      "Accuracy, at step 820: 0.9645\n",
      "Accuracy, at step 830: 0.9667\n",
      "Accuracy, at step 840: 0.9649\n",
      "Accuracy, at step 850: 0.9655\n",
      "Accuracy, at step 860: 0.9618\n",
      "Accuracy, at step 870: 0.9659\n",
      "Accuracy, at step 880: 0.9662\n",
      "Accuracy, at step 890: 0.9662\n",
      "Accuracy, at step 900: 0.9679\n",
      "Accuracy, at step 910: 0.9678\n",
      "Accuracy, at step 920: 0.9693\n",
      "Accuracy, at step 930: 0.9673\n",
      "Accuracy, at step 940: 0.9658\n",
      "Accuracy, at step 950: 0.9675\n",
      "Accuracy, at step 960: 0.9662\n",
      "Accuracy, at step 970: 0.9677\n",
      "Accuracy, at step 980: 0.9661\n",
      "Accuracy, at step 990: 0.9671\n"
     ]
    }
   ],
   "source": [
    "saver = tf.train.Saver()\n",
    "for i in range(max_steps):\n",
    "    if i % 10 == 0:\n",
    "        summary, acc = sess.run([merged, accuracy], feed_dict=feed_dict(False))\n",
    "        test_writer.add_summary(summary,i)\n",
    "        print('Accuracy, at step %s: %s' % (i, acc))\n",
    "    else:\n",
    "        if i % 100 == 0:\n",
    "            run_options = tf.RunOptions(trace_level = tf.RunOptions.FULL_TRACE)\n",
    "            run_metadata = tf.RunMetadata()\n",
    "            summary,_ = sess.run([merged, train_step], feed_dict=feed_dict(True), options=run_options, run_metadata=run_metadata)\n",
    "            train_writer.add_run_metadata(run_metadata, 'step %.3d' % i)\n",
    "            train_writer.add_summary(summary, i)\n",
    "            saver.save(sess, log_dir + '/model.ckpt', i)\n",
    "            print('Adding run metadata for ', i)\n",
    "        else:\n",
    "            summary, _ = sess.run([merged, train_step], feed_dict=feed_dict(True))\n",
    "            train_writer.add_summary(summary, i)\n",
    "train_writer.close()\n",
    "train_writer.close()"
   ]
  },
  {
   "cell_type": "code",
   "execution_count": null,
   "metadata": {
    "collapsed": true
   },
   "outputs": [],
   "source": []
  }
 ],
 "metadata": {
  "kernelspec": {
   "display_name": "Python 3",
   "language": "python",
   "name": "python3"
  },
  "language_info": {
   "codemirror_mode": {
    "name": "ipython",
    "version": 3
   },
   "file_extension": ".py",
   "mimetype": "text/x-python",
   "name": "python",
   "nbconvert_exporter": "python",
   "pygments_lexer": "ipython3",
   "version": "3.6.3"
  }
 },
 "nbformat": 4,
 "nbformat_minor": 2
}
